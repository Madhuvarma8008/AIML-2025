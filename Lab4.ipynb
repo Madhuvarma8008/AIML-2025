{
  "nbformat": 4,
  "nbformat_minor": 0,
  "metadata": {
    "colab": {
      "provenance": [],
      "include_colab_link": true
    },
    "kernelspec": {
      "name": "python3",
      "display_name": "Python 3"
    },
    "language_info": {
      "name": "python"
    }
  },
  "cells": [
    {
      "cell_type": "markdown",
      "metadata": {
        "id": "view-in-github",
        "colab_type": "text"
      },
      "source": [
        "<a href=\"https://colab.research.google.com/github/Madhuvarma8008/AIML-2025/blob/main/Lab4.ipynb\" target=\"_parent\"><img src=\"https://colab.research.google.com/assets/colab-badge.svg\" alt=\"Open In Colab\"/></a>"
      ]
    },
    {
      "cell_type": "code",
      "execution_count": null,
      "metadata": {
        "id": "CSTwrkWzSDUG"
      },
      "outputs": [],
      "source": [
        "from collections import namedtuple, Counter, defaultdict\n",
        "import random\n",
        "import math\n",
        "import functools\n",
        "cache = functools.lru_cache(10**6)"
      ]
    },
    {
      "cell_type": "code",
      "source": [
        "\n",
        "def actions(self,state):\n",
        "  raise NotImplementedError\n",
        "\n",
        "  def result(self,state,move):\n",
        "    raise NotImplementedError\n",
        "\n",
        "    def is_terminal(self,state):\n",
        "      return not self.actions(state)\n",
        "\n",
        "      def utility(self,state,player):\n",
        "        raise NotImplementedError"
      ],
      "metadata": {
        "id": "Tp_L-ZMJTZa4"
      },
      "execution_count": null,
      "outputs": []
    },
    {
      "cell_type": "code",
      "source": [
        "def play_game(game, strategies: dict, verbose=False):\n",
        "  state = game.initial\n",
        "  while not game.is_terminal(state):\n",
        "    player = state.to_move\n",
        "    move = strategies[player](game, state)\n",
        "    state = game.result(state, move)\n",
        "    if verbose:\n",
        "      print('player', player, 'move:', move)\n",
        "      print(state)\n",
        "    return state"
      ],
      "metadata": {
        "id": "k6BUXhtzU5Xw"
      },
      "execution_count": null,
      "outputs": []
    },
    {
      "cell_type": "code",
      "source": [
        "def minmax_search(game, state):\n",
        "  player = state.to_move\n",
        "  def max_value(state):\n",
        "    if game.is_terminal(state):\n",
        "      return game.utility(state, player), None\n",
        "      v, move = -infinity, None\n"
      ],
      "metadata": {
        "id": "oG-smiTMV9QH"
      },
      "execution_count": null,
      "outputs": []
    }
  ]
}